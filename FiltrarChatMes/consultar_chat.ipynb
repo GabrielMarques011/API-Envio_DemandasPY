{
 "cells": [
  {
   "cell_type": "code",
   "execution_count": 1,
   "id": "ebea1d3c",
   "metadata": {},
   "outputs": [],
   "source": [
    "import pandas as pd\n",
    "import numpy as np\n",
    "from datetime import timedelta"
   ]
  },
  {
   "cell_type": "code",
   "execution_count": 9,
   "id": "187fd8bc",
   "metadata": {},
   "outputs": [
    {
     "name": "stdout",
     "output_type": "stream",
     "text": [
      "Tempo médio de primeira resposta: 3 minutos\n",
      "Tempo médio de atendimento: 50 minutos\n",
      "\n",
      "Quantidade de atendimentos por equipe:\n",
      "Team\n",
      "Geral                      2236\n",
      "Suporte                    2016\n",
      "LiberaÃ§Ã£o de ServiÃ§o     473\n",
      "JoÃ£o Pedro                 289\n",
      "Gabriel Marques             154\n",
      "Alison                       90\n",
      "Gabriel Rosa                 50\n",
      "JoÃ£o Miyake                 25\n",
      "Henrique Alves                8\n",
      "Lucas.                        1\n",
      "Name: count, dtype: int64\n",
      "\n",
      "Quantidade total de atendimentos: 5342\n"
     ]
    }
   ],
   "source": [
    "# Carregar o arquivo Excel\n",
    "file_path = 'chat_maio25.xlsx'\n",
    "df = pd.read_excel(file_path, sheet_name='testprincipal_Tickets_2025-05-0')\n",
    "\n",
    "# Função para converter tempo no formato \"0d 00:00:00\" para minutos\n",
    "def time_to_minutes(time_str):\n",
    "    if pd.isna(time_str) or time_str == '':\n",
    "        return np.nan\n",
    "    try:\n",
    "        days, time = time_str.split('d ')\n",
    "        hours, minutes, seconds = map(float, time.split(':'))\n",
    "        total_minutes = int(days) * 24 * 60 + hours * 60 + minutes + seconds / 60\n",
    "        return total_minutes\n",
    "    except:\n",
    "        return np.nan\n",
    "\n",
    "# Converter colunas de tempo para minutos\n",
    "df['FirstResponseTime_min'] = df['FirstResponseTime'].apply(time_to_minutes)\n",
    "df['OperationalTime_min'] = df['OperationalTime'].apply(time_to_minutes)\n",
    "\n",
    "# Calcular médias\n",
    "avg_first_response = df['FirstResponseTime_min'].mean()\n",
    "avg_operational_time = df['OperationalTime_min'].mean()\n",
    "\n",
    "# Contar atendimentos por equipe\n",
    "team_counts = df['Team'].value_counts()\n",
    "\n",
    "# Soma total dos atendimentos (todas as equipes)\n",
    "total_atendimentos = team_counts.sum()\n",
    "\n",
    "# Resultados\n",
    "print(f\"Tempo médio de primeira resposta: {round(avg_first_response)} minutos\")\n",
    "print(f\"Tempo médio de atendimento: {round(avg_operational_time)} minutos\")\n",
    "print(\"\\nQuantidade de atendimentos por equipe:\")\n",
    "print(team_counts)\n",
    "print(f\"\\nQuantidade total de atendimentos: {total_atendimentos}\")"
   ]
  }
 ],
 "metadata": {
  "kernelspec": {
   "display_name": "Python 3",
   "language": "python",
   "name": "python3"
  },
  "language_info": {
   "codemirror_mode": {
    "name": "ipython",
    "version": 3
   },
   "file_extension": ".py",
   "mimetype": "text/x-python",
   "name": "python",
   "nbconvert_exporter": "python",
   "pygments_lexer": "ipython3",
   "version": "3.13.5"
  }
 },
 "nbformat": 4,
 "nbformat_minor": 5
}
