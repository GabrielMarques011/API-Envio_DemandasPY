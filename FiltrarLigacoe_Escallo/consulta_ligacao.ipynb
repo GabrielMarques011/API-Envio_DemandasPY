{
 "cells": [
  {
   "cell_type": "code",
   "execution_count": null,
   "id": "2759c14b",
   "metadata": {},
   "outputs": [],
   "source": [
    "import os\n",
    "import requests\n",
    "import pandas as pd\n",
    "from dotenv import load_dotenv\n",
    "import json\n",
    "\n",
    "# Carrega variáveis do .env\n",
    "load_dotenv()\n",
    "\n",
    "# Lê as variáveis\n",
    "ESCALLO_HOST = os.getenv(\"ESCALLO_HOST\")\n",
    "ESCALLO_TOKEN = os.getenv(\"ESCALLO_TOKEN\")"
   ]
  },
  {
   "cell_type": "code",
   "execution_count": 2,
   "id": "41d88967",
   "metadata": {},
   "outputs": [
    {
     "ename": "NameError",
     "evalue": "name 'json' is not defined",
     "output_type": "error",
     "traceback": [
      "\u001b[31m---------------------------------------------------------------------------\u001b[39m",
      "\u001b[31mNameError\u001b[39m                                 Traceback (most recent call last)",
      "\u001b[36mCell\u001b[39m\u001b[36m \u001b[39m\u001b[32mIn[2]\u001b[39m\u001b[32m, line 27\u001b[39m\n\u001b[32m     24\u001b[39m         resultado_json = df_normalizado.to_dict(orient=\u001b[33m\"\u001b[39m\u001b[33mrecords\u001b[39m\u001b[33m\"\u001b[39m)\n\u001b[32m     26\u001b[39m         \u001b[38;5;28;01mwith\u001b[39;00m \u001b[38;5;28mopen\u001b[39m(\u001b[33m\"\u001b[39m\u001b[33mrelatorio_normalizado.json\u001b[39m\u001b[33m\"\u001b[39m, \u001b[33m\"\u001b[39m\u001b[33mw\u001b[39m\u001b[33m\"\u001b[39m, encoding=\u001b[33m\"\u001b[39m\u001b[33mutf-8\u001b[39m\u001b[33m\"\u001b[39m) \u001b[38;5;28;01mas\u001b[39;00m f:\n\u001b[32m---> \u001b[39m\u001b[32m27\u001b[39m             \u001b[43mjson\u001b[49m.dump(resultado_json, f, ensure_ascii=\u001b[38;5;28;01mFalse\u001b[39;00m, indent=\u001b[32m4\u001b[39m)\n\u001b[32m     29\u001b[39m         \u001b[38;5;28mprint\u001b[39m(\u001b[33m\"\u001b[39m\u001b[33m✅ JSON normalizado salvo como \u001b[39m\u001b[33m'\u001b[39m\u001b[33mrelatorio_normalizado.json\u001b[39m\u001b[33m'\u001b[39m\u001b[33m\"\u001b[39m)\n\u001b[32m     30\u001b[39m \u001b[38;5;28;01melse\u001b[39;00m:\n",
      "\u001b[31mNameError\u001b[39m: name 'json' is not defined"
     ]
    }
   ],
   "source": [
    "# Garante que o host comece com http:// ou https://\n",
    "if not ESCALLO_HOST.startswith(\"http\"):\n",
    "    ESCALLO_HOST = \"http://\" + ESCALLO_HOST  # fallback\n",
    "\n",
    "# Monta a URL\n",
    "url = f\"{ESCALLO_HOST}/escallo/api/v1/recurso/relatorio/rel003/?dataInicial=2024-01-01&horarioInicial=00:00:01&horarioFinal=23:59:59&filtrarFilhas=0&ultimosDias=30&dataFinal=2024-01-30\"\n",
    "\n",
    "headers = {\n",
    "    \"Authorization\": f\"Partner {ESCALLO_TOKEN}\",\n",
    "    \"Accept\": \"application/json\"\n",
    "}\n",
    "\n",
    "response = requests.get(url, headers=headers)\n",
    "\n",
    "if response.status_code == 200:\n",
    "    dados = response.json()\n",
    "    data_items = dados.get(\"data\", [])\n",
    "\n",
    "    if not data_items:\n",
    "        print(\"⚠️ Nenhum dado encontrado na chave 'data'\")\n",
    "    else:\n",
    "        # Normaliza e salva como arquivo JSON\n",
    "        df_normalizado = pd.json_normalize(data_items)\n",
    "        resultado_json = df_normalizado.to_dict(orient=\"records\")\n",
    "\n",
    "        with open(\"relatorio_normalizado.json\", \"w\", encoding=\"utf-8\") as f:\n",
    "            json.dump(resultado_json, f, ensure_ascii=False, indent=4)\n",
    "\n",
    "        print(\"✅ JSON normalizado salvo como 'relatorio_normalizado.json'\")\n",
    "else:\n",
    "    print(f\"❌ Erro {response.status_code}\")\n",
    "    print(response.text)"
   ]
  }
 ],
 "metadata": {
  "kernelspec": {
   "display_name": "Python 3",
   "language": "python",
   "name": "python3"
  },
  "language_info": {
   "codemirror_mode": {
    "name": "ipython",
    "version": 3
   },
   "file_extension": ".py",
   "mimetype": "text/x-python",
   "name": "python",
   "nbconvert_exporter": "python",
   "pygments_lexer": "ipython3",
   "version": "3.13.5"
  }
 },
 "nbformat": 4,
 "nbformat_minor": 5
}
